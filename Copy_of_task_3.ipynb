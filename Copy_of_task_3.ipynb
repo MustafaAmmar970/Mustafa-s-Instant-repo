{
  "cells": [
    {
      "cell_type": "code",
      "source": [],
      "metadata": {
        "id": "1zL4KYzZcHdN"
      },
      "id": "1zL4KYzZcHdN",
      "execution_count": null,
      "outputs": []
    },
    {
      "cell_type": "markdown",
      "id": "ff38aad7",
      "metadata": {
        "id": "ff38aad7"
      },
      "source": [
        "### 1-Write a Python program that takes two numbers as user input and performs addition on them."
      ]
    },
    {
      "cell_type": "code",
      "execution_count": null,
      "id": "91696b79",
      "metadata": {
        "id": "91696b79",
        "outputId": "732ed03a-64a1-4e27-dc6d-e7321f4db64a",
        "colab": {
          "base_uri": "https://localhost:8080/"
        }
      },
      "outputs": [
        {
          "output_type": "stream",
          "name": "stdout",
          "text": [
            "enter numbers: 1\n",
            "enter a second number1\n",
            "the addition is:  2\n"
          ]
        }
      ],
      "source": [
        "x = int(input(\"enter numbers: \"))\n",
        "y = int(input(\"enter a second number\"))\n",
        "print(\"the addition is: \",x+y)"
      ]
    },
    {
      "cell_type": "markdown",
      "id": "360854ff",
      "metadata": {
        "id": "360854ff"
      },
      "source": [
        "### 2-Write a Python program that takes an integer as input and checks if it is even or odd. Print \"Even\" if the number is divisible by 2, otherwise print \"Odd\"."
      ]
    },
    {
      "cell_type": "code",
      "execution_count": null,
      "id": "ee4c35fe",
      "metadata": {
        "ExecuteTime": {
          "end_time": "2023-07-23T21:35:24.351946Z",
          "start_time": "2023-07-23T21:35:23.287212Z"
        },
        "id": "ee4c35fe",
        "outputId": "fa1f7580-3099-4a9d-8f9f-911790c93cc0",
        "colab": {
          "base_uri": "https://localhost:8080/",
          "height": 106
        }
      },
      "outputs": [
        {
          "output_type": "error",
          "ename": "SyntaxError",
          "evalue": "incomplete input (<ipython-input-2-868fb19d9bc7>, line 2)",
          "traceback": [
            "\u001b[0;36m  File \u001b[0;32m\"<ipython-input-2-868fb19d9bc7>\"\u001b[0;36m, line \u001b[0;32m2\u001b[0m\n\u001b[0;31m    if x%2==0:\u001b[0m\n\u001b[0m              ^\u001b[0m\n\u001b[0;31mSyntaxError\u001b[0m\u001b[0;31m:\u001b[0m incomplete input\n"
          ]
        }
      ],
      "source": [
        "x = int(input(\"enter a number\"))\n",
        "if x%2==0:\n",
        "  print(\"Even\")\n",
        "else:\n",
        "  print(\"Odd\")"
      ]
    },
    {
      "cell_type": "markdown",
      "id": "6ea0354c",
      "metadata": {
        "id": "6ea0354c"
      },
      "source": [
        "### 3-Write a Python program that prints all the even numbers from 1 to 20 using a for loop"
      ]
    },
    {
      "cell_type": "code",
      "execution_count": null,
      "id": "df43b7f5",
      "metadata": {
        "ExecuteTime": {
          "end_time": "2023-07-23T21:36:51.373589Z",
          "start_time": "2023-07-23T21:36:51.365580Z"
        },
        "id": "df43b7f5",
        "outputId": "84a5a307-ab18-4e25-8d3d-1072d1657a37",
        "colab": {
          "base_uri": "https://localhost:8080/"
        }
      },
      "outputs": [
        {
          "output_type": "stream",
          "name": "stdout",
          "text": [
            "1\n",
            "2\n",
            "3\n",
            "4\n",
            "5\n",
            "6\n",
            "7\n",
            "8\n",
            "9\n",
            "10\n",
            "11\n",
            "12\n",
            "13\n",
            "14\n",
            "15\n",
            "16\n",
            "17\n",
            "18\n",
            "19\n",
            "20\n"
          ]
        }
      ],
      "source": [
        "for i in range(1,21):\n",
        "  print(i)"
      ]
    },
    {
      "cell_type": "markdown",
      "id": "2d66bab2",
      "metadata": {
        "id": "2d66bab2"
      },
      "source": [
        "### 4-Write a Python function that takes a string as input and counts the number of vowels (a, e, i, o, u) in the string. The function should return the count"
      ]
    },
    {
      "cell_type": "code",
      "execution_count": null,
      "id": "a37a84fd",
      "metadata": {
        "ExecuteTime": {
          "end_time": "2023-07-23T21:45:58.522044Z",
          "start_time": "2023-07-23T21:45:58.514370Z"
        },
        "id": "a37a84fd",
        "outputId": "c400e0d9-a091-4b25-8869-c91479b09ad3",
        "colab": {
          "base_uri": "https://localhost:8080/"
        }
      },
      "outputs": [
        {
          "output_type": "stream",
          "name": "stdout",
          "text": [
            "enter a word: ahmed\n",
            "2\n"
          ]
        }
      ],
      "source": [
        "x= input(\"enter a word: \")\n",
        "count=0\n",
        "for i in range(len(x)):\n",
        "  if x[i]=='a' or x[i]=='e' or x[i]=='i' or x[i]=='o' or x[i]=='u':\n",
        "    count+=1\n",
        "  else:\n",
        "    continue\n",
        "print(count)"
      ]
    },
    {
      "cell_type": "markdown",
      "id": "a9a0ea06",
      "metadata": {
        "id": "a9a0ea06"
      },
      "source": [
        "### 5-Write a Python program that creates a list of numbers from 1 to 10. Use a loop to iterate over the list and print each number of power 2."
      ]
    },
    {
      "cell_type": "code",
      "execution_count": null,
      "id": "6fa658cf",
      "metadata": {
        "ExecuteTime": {
          "end_time": "2023-07-23T21:48:02.328880Z",
          "start_time": "2023-07-23T21:48:02.314313Z"
        },
        "id": "6fa658cf",
        "outputId": "21d86b8d-0a51-4e02-e850-045cace8f76d",
        "colab": {
          "base_uri": "https://localhost:8080/"
        }
      },
      "outputs": [
        {
          "output_type": "stream",
          "name": "stdout",
          "text": [
            "[1, 4, 9, 16, 25, 36, 49, 64, 81, 100]\n"
          ]
        }
      ],
      "source": [
        "x=[]\n",
        "for i in range(1,11):\n",
        "  z = i*i\n",
        "  x.append(z)\n",
        "print(x)"
      ]
    },
    {
      "cell_type": "markdown",
      "id": "430c9df9",
      "metadata": {
        "id": "430c9df9"
      },
      "source": [
        "### 6-Write a Python program that calculates the average grade for a student based on their scores in different subjects. The program should include the following steps:\n",
        "\n",
        "#### 1-Create variables to store the student's name, subject names, and corresponding scores. Initialize the variables with sample data.\n",
        "\n",
        "#### 2-Prompt the user to enter the student's name and assign it to the name variable.\n",
        "\n",
        "#### 3-Use a loop to prompt the user to enter the subject names and corresponding scores. Store the subject names in a list and the scores in another list.\n",
        "\n",
        "#### 4-After collecting the scores, calculate the average grade by summing up all the scores and dividing by the total number of subjects.\n",
        "\n",
        "#### 5-Check if the average grade is above a 70, print a congratulatory message. Otherwise, print an encouragement message."
      ]
    },
    {
      "cell_type": "code",
      "execution_count": null,
      "id": "e0254271",
      "metadata": {
        "ExecuteTime": {
          "end_time": "2023-07-15T16:16:17.066909Z",
          "start_time": "2023-07-15T16:16:07.636799Z"
        },
        "id": "e0254271",
        "colab": {
          "base_uri": "https://localhost:8080/"
        },
        "outputId": "63aee143-564d-4b9e-a03c-33935e495806"
      },
      "outputs": [
        {
          "output_type": "stream",
          "name": "stdout",
          "text": [
            "enter your name:ahmed\n",
            "how many subjects do you take2\n",
            "enter subject number 1: math\n",
            "enter the grade for that subject: 10\n",
            "enter subject number 2: enlgish\n",
            "enter the grade for that subject: 10\n",
            "your average is:  10.0\n",
            "keep going ahmed i believe in you \n"
          ]
        }
      ],
      "source": [
        "student_name= input(\"enter your name:\")\n",
        "student_subjects=[]\n",
        "student_grades=[]\n",
        "count = int(input(\"how many subjects do you take\"))\n",
        "for i in range(count):\n",
        "  a = input(f\"enter subject number {i+1}: \")\n",
        "  student_subjects.append(a)\n",
        "  a= int(input(\"enter the grade for that subject: \"))\n",
        "  student_grades.append(a)\n",
        "\n",
        "sum=0\n",
        "for i in student_grades:\n",
        "  sum+=i\n",
        "\n",
        "average= sum/len(student_grades)\n",
        "print(\"your average is: \",average)\n",
        "if average>70:\n",
        "  print(f\"congratulations you have a high average {student_name}\")\n",
        "else:\n",
        "  print(f\"keep going {student_name} i believe in you \")"
      ]
    },
    {
      "cell_type": "markdown",
      "id": "ae9df360",
      "metadata": {
        "id": "ae9df360"
      },
      "source": [
        "### 7-Find Common Elements\n",
        "### Write a Python function that takes two lists as input and returns a new list containing the common elements present in both lists."
      ]
    },
    {
      "cell_type": "code",
      "execution_count": null,
      "id": "d030c3c0",
      "metadata": {
        "ExecuteTime": {
          "end_time": "2023-07-23T22:08:16.794474Z",
          "start_time": "2023-07-23T22:08:16.775639Z"
        },
        "id": "d030c3c0"
      },
      "outputs": [],
      "source": []
    },
    {
      "cell_type": "code",
      "execution_count": null,
      "id": "371369cd",
      "metadata": {
        "ExecuteTime": {
          "end_time": "2023-07-23T23:56:27.326200Z",
          "start_time": "2023-07-23T23:56:27.326200Z"
        },
        "id": "371369cd"
      },
      "outputs": [],
      "source": []
    },
    {
      "cell_type": "markdown",
      "id": "9a2f34cb",
      "metadata": {
        "id": "9a2f34cb"
      },
      "source": [
        "### 8-Write a Python function that takes a list of numbers and an element to remove from the list."
      ]
    },
    {
      "cell_type": "code",
      "execution_count": null,
      "id": "78de9fe8",
      "metadata": {
        "ExecuteTime": {
          "end_time": "2023-07-23T22:21:36.514592Z",
          "start_time": "2023-07-23T22:21:36.505437Z"
        },
        "id": "78de9fe8",
        "colab": {
          "base_uri": "https://localhost:8080/"
        },
        "outputId": "8dd3cff5-6936-4283-afd1-b090e6c827e7"
      },
      "outputs": [
        {
          "output_type": "stream",
          "name": "stdout",
          "text": [
            "enter a list of numbeers: 1 2 3 3 4\n",
            "enter a number to remove from the list: 3\n",
            "the new list is:  [1, 2, 4]\n"
          ]
        }
      ],
      "source": [
        "x = input(\"enter a list of numbeers: \").split()\n",
        "y= input(\"enter a number to remove from the list: \")\n",
        "temp=[]\n",
        "for i in x:\n",
        "  if i !=y:\n",
        "    temp.append(i)\n",
        "  else:\n",
        "    continue\n",
        "for i in range(len(temp)):\n",
        "  temp[i]= int(temp[i])\n",
        "\n",
        "x= temp\n",
        "print(\"the new list is: \",x)\n"
      ]
    },
    {
      "cell_type": "markdown",
      "id": "f1658f3b",
      "metadata": {
        "ExecuteTime": {
          "end_time": "2023-07-23T22:18:08.230185Z",
          "start_time": "2023-07-23T22:18:08.224220Z"
        },
        "id": "f1658f3b"
      },
      "source": [
        "### 9-Given 4 numbers A, B, C and D. Print the last 2 digits from their Multiplication.\n",
        "### Example :\n",
        "### the Multiplication of 4 numbers is 5 * 7 * 2 * 4 = 280 so the answer will be the last 2 digits which are 80."
      ]
    },
    {
      "cell_type": "code",
      "execution_count": null,
      "id": "e3acbe03",
      "metadata": {
        "ExecuteTime": {
          "end_time": "2023-07-23T22:26:11.183016Z",
          "start_time": "2023-07-23T22:26:03.981069Z"
        },
        "id": "e3acbe03",
        "colab": {
          "base_uri": "https://localhost:8080/"
        },
        "outputId": "8727bc7a-794b-434b-bb23-76c94d24b8fe"
      },
      "outputs": [
        {
          "output_type": "stream",
          "name": "stdout",
          "text": [
            "enter your first number: 7\n",
            "enter your second number: 2\n",
            "enter your third number: 4\n",
            "enter your fourth number: 5\n",
            "the result of your multiplication is:  280\n",
            "the last two digits are:80\n"
          ]
        }
      ],
      "source": [
        "w= int(input(\"enter your first number: \"))\n",
        "x= int(input(\"enter your second number: \"))\n",
        "y= int(input(\"enter your third number: \"))\n",
        "z= int(input(\"enter your fourth number: \"))\n",
        "a= w*x*y*z\n",
        "\n",
        "k=[]\n",
        "for i in range(2):\n",
        "  k.insert(0,str(a%10))\n",
        "  a = a//10\n",
        "\n",
        "print(\"the result of your multiplication is:\"+k[0]+k[1])"
      ]
    },
    {
      "cell_type": "markdown",
      "id": "d7ab15bb",
      "metadata": {
        "ExecuteTime": {
          "end_time": "2023-07-23T22:26:14.833712Z",
          "start_time": "2023-07-23T22:26:14.819130Z"
        },
        "id": "d7ab15bb"
      },
      "source": [
        "### 10- Given a number X. Determine if the number is prime or not"
      ]
    },
    {
      "cell_type": "code",
      "execution_count": 1,
      "id": "59b27f0a",
      "metadata": {
        "ExecuteTime": {
          "end_time": "2023-07-23T22:35:25.933766Z",
          "start_time": "2023-07-23T22:35:24.168681Z"
        },
        "id": "59b27f0a",
        "colab": {
          "base_uri": "https://localhost:8080/"
        },
        "outputId": "50503aaa-da44-438d-8ca9-f52cf151536a"
      },
      "outputs": [
        {
          "output_type": "stream",
          "name": "stdout",
          "text": [
            "enter a number to check if its prime or not11\n",
            "prime\n"
          ]
        }
      ],
      "source": [
        "x = int(input(\"enter a number to check if its prime or not\"))\n",
        "\n",
        "for i in range(2,x):\n",
        "  if x==2:\n",
        "      print(\"Prime\")\n",
        "  elif x%i ==0 :\n",
        "    print(\"not prime\")\n",
        "    break\n",
        "else:\n",
        "  print(\"prime\")\n"
      ]
    },
    {
      "cell_type": "markdown",
      "id": "e1d1dcf9",
      "metadata": {
        "id": "e1d1dcf9"
      },
      "source": [
        "### 11- Given a number N and a list A of N numbers. Determine if the number X exists in array A or not and print its position (0-index)."
      ]
    },
    {
      "cell_type": "code",
      "execution_count": 13,
      "id": "2b002b0e",
      "metadata": {
        "ExecuteTime": {
          "end_time": "2023-07-23T22:53:41.474835Z",
          "start_time": "2023-07-23T22:53:41.458293Z"
        },
        "id": "2b002b0e",
        "colab": {
          "base_uri": "https://localhost:8080/"
        },
        "outputId": "80222021-c3ce-4515-8da3-3e2f3a00cb25"
      },
      "outputs": [
        {
          "output_type": "stream",
          "name": "stdout",
          "text": [
            "how long do you want the array to be? 5\n",
            "enter a number: 1\n",
            "enter a number: 2\n",
            "enter a number: 3\n",
            "enter a number: 4\n",
            "enter a number: 5\n",
            "enter the number you want to check?6\n",
            "not found\n"
          ]
        }
      ],
      "source": [
        "a= int(input(\"how long do you want the array to be? \"))\n",
        "b=[]\n",
        "for i in range(a):\n",
        "  x = int(input(\"enter a number: \"))\n",
        "  b.append(x)\n",
        "y=int(input(\"enter the number you want to check?\"))\n",
        "flag= False\n",
        "count =0\n",
        "for i in b:\n",
        "  if i==y:\n",
        "    print(f\"Found {y} at index\",count)\n",
        "    flag=False\n",
        "    break\n",
        "  elif i!=y:\n",
        "    count +=1\n",
        "    flag=True\n",
        "\n",
        "\n",
        "if flag==True:\n",
        "  print(\"not found\")"
      ]
    },
    {
      "cell_type": "markdown",
      "id": "f2ec854b",
      "metadata": {
        "id": "f2ec854b"
      },
      "source": [
        "### 12- Given a number N and a list A of N numbers. Determine if the array is lucky or not.\n",
        "\n",
        "#### Note: the array is lucky if the frequency (number of occurrence) of the minimum element is odd."
      ]
    },
    {
      "cell_type": "code",
      "execution_count": 23,
      "id": "0c4f7f4b",
      "metadata": {
        "ExecuteTime": {
          "end_time": "2023-07-23T23:02:02.490192Z",
          "start_time": "2023-07-23T23:02:02.476874Z"
        },
        "id": "0c4f7f4b",
        "colab": {
          "base_uri": "https://localhost:8080/"
        },
        "outputId": "e96330a6-b840-4c4a-eeb1-01c18f3c9a9b"
      },
      "outputs": [
        {
          "output_type": "stream",
          "name": "stdout",
          "text": [
            "how long do you want the array to be? 5\n",
            "enter a number: 1\n",
            "enter a number: 1\n",
            "enter a number: 2\n",
            "enter a number: 3\n",
            "enter a number: 4\n",
            "the array is not lucky\n"
          ]
        }
      ],
      "source": [
        "a= int(input(\"how long do you want the array to be? \"))\n",
        "b=[]\n",
        "for i in range(a):\n",
        "  x = int(input(\"enter a number: \"))\n",
        "  b.append(x)\n",
        "\n",
        "min=b[0]\n",
        "for i in b:\n",
        "  if i <min:\n",
        "    min=i\n",
        "  else:\n",
        "    continue\n",
        "\n",
        "count=0\n",
        "for  k in b:\n",
        "  if k==min:\n",
        "    count+=1\n",
        "  else:\n",
        "    continue\n",
        "\n",
        "if (count%2) ==0:\n",
        "  print(\"the array is not lucky\")\n",
        "elif (count%2)!=0:\n",
        "  print(\"the array is lucky\")"
      ]
    },
    {
      "cell_type": "markdown",
      "id": "e1ce1ae5",
      "metadata": {
        "id": "e1ce1ae5"
      },
      "source": [
        "### 13-Given a number N and a list A of N numbers. Print the array after doing the following operations:\n",
        "\n",
        "#### Find minimum number in these numbers.\n",
        "#### Find maximum number in these numbers.\n",
        "##### Swap minimum number with maximum number."
      ]
    },
    {
      "cell_type": "code",
      "execution_count": 24,
      "id": "e0d6e639",
      "metadata": {
        "ExecuteTime": {
          "end_time": "2023-07-23T23:10:04.293733Z",
          "start_time": "2023-07-23T23:10:04.280256Z"
        },
        "id": "e0d6e639",
        "colab": {
          "base_uri": "https://localhost:8080/"
        },
        "outputId": "0b9a2b5a-95f5-4eb4-ce07-9077903f5066"
      },
      "outputs": [
        {
          "output_type": "stream",
          "name": "stdout",
          "text": [
            "how long do you want the array to be? 5\n",
            "enter a number: 2\n",
            "enter a number: 1\n",
            "enter a number: 4\n",
            "enter a number: 3\n",
            "enter a number: 5\n",
            "the minmum number is  1\n",
            "the maximum number is 5\n",
            "the array before the swap is:  [2, 1, 4, 3, 5]\n",
            "the new array is:  [2, 5, 4, 3, 1]\n"
          ]
        }
      ],
      "source": [
        "a= int(input(\"how long do you want the array to be? \"))\n",
        "b=[]\n",
        "for i in range(a):\n",
        "  x = int(input(\"enter a number: \"))\n",
        "  b.append(x)\n",
        "min=b[0]\n",
        "min_index=0\n",
        "for i in b:\n",
        "  if i <min:\n",
        "    min=i\n",
        "    min_index=b.index(i)\n",
        "  else:\n",
        "    continue\n",
        "print(\"the minmum number is \",min)\n",
        "max=b[0]\n",
        "max_index=0\n",
        "for i in b:\n",
        "  if i >max:\n",
        "    max=i\n",
        "    max_index=b.index(i)\n",
        "  else:\n",
        "    continue\n",
        "print(\"the maximum number is\",max)\n",
        "\n",
        "print(\"the array before the swap is: \",b)\n",
        "temp =b[min_index]\n",
        "b[min_index]=b[max_index]\n",
        "b[max_index]=temp\n",
        "print(\"the new array is: \",b)"
      ]
    },
    {
      "cell_type": "markdown",
      "id": "9eb8e9c5",
      "metadata": {
        "ExecuteTime": {
          "end_time": "2023-07-23T23:10:06.436833Z",
          "start_time": "2023-07-23T23:10:06.422086Z"
        },
        "id": "9eb8e9c5"
      },
      "source": [
        "### 14-Given a number N and an array A of N numbers. Print the lowest number and its position.\n",
        "\n",
        "### Note: if there are more than one answer print first one's position."
      ]
    },
    {
      "cell_type": "code",
      "execution_count": 26,
      "id": "018e01c8",
      "metadata": {
        "ExecuteTime": {
          "end_time": "2023-07-23T23:20:38.498527Z",
          "start_time": "2023-07-23T23:20:38.490451Z"
        },
        "id": "018e01c8",
        "colab": {
          "base_uri": "https://localhost:8080/"
        },
        "outputId": "1b28bfd4-4344-4d85-8f93-5462765329be"
      },
      "outputs": [
        {
          "output_type": "stream",
          "name": "stdout",
          "text": [
            "how long do you want the array to be? 5\n",
            "enter a number: 5\n",
            "enter a number: 4\n",
            "enter a number: 3\n",
            "enter a number: 2\n",
            "enter a number: 1\n",
            "the minmum number is  1 and its index is: 4\n"
          ]
        }
      ],
      "source": [
        "a= int(input(\"how long do you want the array to be? \"))\n",
        "b=[]\n",
        "for i in range(a):\n",
        "  x = int(input(\"enter a number: \"))\n",
        "  b.append(x)\n",
        "min=b[0]\n",
        "min_index=0\n",
        "for i in b:\n",
        "  if i <min:\n",
        "    min=i\n",
        "    min_index=b.index(i)\n",
        "  else:\n",
        "    continue\n",
        "print(\"the minmum number is \",min,\"and its index is:\",min_index)"
      ]
    },
    {
      "cell_type": "markdown",
      "id": "f35d3427",
      "metadata": {
        "ExecuteTime": {
          "end_time": "2023-07-23T23:20:55.880128Z",
          "start_time": "2023-07-23T23:20:55.861804Z"
        },
        "id": "f35d3427"
      },
      "source": [
        "### 15-Given a number N and an array A of N numbers. Print the numbers after sorting them"
      ]
    },
    {
      "cell_type": "code",
      "execution_count": 31,
      "id": "a6e0edd4",
      "metadata": {
        "ExecuteTime": {
          "end_time": "2023-07-23T23:46:13.340484Z",
          "start_time": "2023-07-23T23:46:13.324468Z"
        },
        "id": "a6e0edd4",
        "colab": {
          "base_uri": "https://localhost:8080/"
        },
        "outputId": "97002ae7-112c-4e7f-f801-719c027a4ff7"
      },
      "outputs": [
        {
          "output_type": "stream",
          "name": "stdout",
          "text": [
            "how long do you want the array to be? 5\n",
            "enter a number: 4\n",
            "enter a number: 1\n",
            "enter a number: 8\n",
            "enter a number: 2\n",
            "enter a number: 3\n",
            "the sorted array is:  [1, 2, 3, 4, 8]\n"
          ]
        }
      ],
      "source": [
        "a= int(input(\"how long do you want the array to be? \"))\n",
        "b=[]\n",
        "for i in range(a):\n",
        "  x = int(input(\"enter a number: \"))\n",
        "  b.append(x)\n",
        "\n",
        "for i in range(len(b)-1):\n",
        "  swapped_flag=False\n",
        "  for k in range(len(b)-1):\n",
        "    if b[k]>b[k+1]:\n",
        "      temp=b[k]\n",
        "      b[k]=b[k+1]\n",
        "      b[k+1]=temp\n",
        "      swapped_flag=True\n",
        "  if swapped_flag ==False:\n",
        "    break\n",
        "print(\"the sorted array is: \",b)"
      ]
    },
    {
      "cell_type": "markdown",
      "id": "a172f354",
      "metadata": {
        "ExecuteTime": {
          "end_time": "2023-07-23T23:46:15.127981Z",
          "start_time": "2023-07-23T23:46:15.108766Z"
        },
        "id": "a172f354"
      },
      "source": [
        "### 16- Write a Python program to remove spaces from a given string"
      ]
    },
    {
      "cell_type": "code",
      "execution_count": 32,
      "id": "36d3569d",
      "metadata": {
        "ExecuteTime": {
          "end_time": "2023-07-23T23:50:06.443640Z",
          "start_time": "2023-07-23T23:50:01.592919Z"
        },
        "id": "36d3569d",
        "colab": {
          "base_uri": "https://localhost:8080/"
        },
        "outputId": "fa4fa4f0-4313-407f-edbc-ea481cef1218"
      },
      "outputs": [
        {
          "output_type": "stream",
          "name": "stdout",
          "text": [
            "enter a stringhello my name is mustafa\n",
            "the new string is:  hellomynameismustafa\n"
          ]
        }
      ],
      "source": [
        "x = input(\"enter a string\").split()\n",
        "s=\"\"\n",
        "for i in range(len(x)):\n",
        "  s +=x[i]\n",
        "print(\"the new string is: \",s)"
      ]
    },
    {
      "cell_type": "markdown",
      "id": "a5470d49",
      "metadata": {
        "id": "a5470d49"
      },
      "source": [
        "### 17-write a Python program to swap first and last element of any list."
      ]
    },
    {
      "cell_type": "code",
      "execution_count": 35,
      "id": "9d73887b",
      "metadata": {
        "ExecuteTime": {
          "end_time": "2023-07-23T23:50:59.283429Z",
          "start_time": "2023-07-23T23:50:59.272096Z"
        },
        "id": "9d73887b",
        "colab": {
          "base_uri": "https://localhost:8080/"
        },
        "outputId": "e347416f-0c52-4257-ae8c-dafc1f49650d"
      },
      "outputs": [
        {
          "output_type": "stream",
          "name": "stdout",
          "text": [
            "the old list:  [1, 2, 3, 4, 5]\n",
            "the new list:  [5, 2, 3, 4, 1]\n"
          ]
        }
      ],
      "source": [
        "b=[1,2,3,4,5]\n",
        "print(\"the old list: \",b)\n",
        "temp =b[0]\n",
        "b[0] =b[len(b)-1]\n",
        "b[len(b)-1]=temp\n",
        "print(\"the new list: \",b)"
      ]
    },
    {
      "cell_type": "markdown",
      "source": [
        "# **Write a Python Program to Find HCF.**\n",
        "## Highest Common Factor(HCF): HCF, or Highest Common Factor, is the largest positive integer that divides two or more numbers without leaving a remainder. Formula: For two numbers a and b, the HCF can be found using the formula:\n",
        "\n",
        "** HCF(𝑎, 𝑏) = GCD(𝑎, 𝑏)**\n",
        "For more than two numbers, you can find the HCF by taking the GCD of pairs of numbers at a time until you reach the last pair.\n",
        "\n",
        "# **Note: GCD stands for Greatest Common Divisor, use function.**\n"
      ],
      "metadata": {
        "id": "iS6JiE4uPbyH"
      },
      "id": "iS6JiE4uPbyH"
    },
    {
      "cell_type": "code",
      "source": [
        "from re import L\n",
        "x= int(input(\"enter the first number: \"))\n",
        "y= int(input(\"enter the second number: \"))\n",
        "biggest=0\n",
        "if x>y:\n",
        "  biggest=x\n",
        "else:\n",
        "  biggest=y\n",
        "hcf =0\n",
        "for i in range(1,biggest):\n",
        "  if x%i==0 and y%i==0:\n",
        "    hcf=i\n",
        "  else:\n",
        "    continue\n",
        "print(f\"the HCF for the two numbers {x} and {y} is \",hcf)"
      ],
      "metadata": {
        "id": "9qUfYf0wPnvt",
        "colab": {
          "base_uri": "https://localhost:8080/"
        },
        "outputId": "1be0ee5a-dfd1-46e0-867a-70fded80825e"
      },
      "id": "9qUfYf0wPnvt",
      "execution_count": 37,
      "outputs": [
        {
          "output_type": "stream",
          "name": "stdout",
          "text": [
            "enter the first number: 60\n",
            "enter the second number: 75\n",
            "the HCF for the two numbers 60 and 75 is  15\n"
          ]
        }
      ]
    }
  ],
  "metadata": {
    "kernelspec": {
      "display_name": "Python 3 (ipykernel)",
      "language": "python",
      "name": "python3"
    },
    "language_info": {
      "codemirror_mode": {
        "name": "ipython",
        "version": 3
      },
      "file_extension": ".py",
      "mimetype": "text/x-python",
      "name": "python",
      "nbconvert_exporter": "python",
      "pygments_lexer": "ipython3",
      "version": "3.9.12"
    },
    "colab": {
      "provenance": []
    }
  },
  "nbformat": 4,
  "nbformat_minor": 5
}