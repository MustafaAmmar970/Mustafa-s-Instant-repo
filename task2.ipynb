{
  "cells": [
    {
      "cell_type": "code",
      "execution_count": null,
      "metadata": {
        "id": "vs_SU3ng0tbN"
      },
      "outputs": [],
      "source": []
    },
    {
      "cell_type": "markdown",
      "metadata": {
        "id": "MnWAiH2o0zSa"
      },
      "source": [
        "\n",
        "# **WAP to enter a number from user and print its absolute value.**"
      ]
    },
    {
      "cell_type": "code",
      "execution_count": null,
      "metadata": {
        "colab": {
          "base_uri": "https://localhost:8080/",
          "height": 356
        },
        "id": "l3oLMLbk02Pj",
        "outputId": "3a148565-a697-42f3-a907-9e0a1b1d7cfb"
      },
      "outputs": [
        {
          "ename": "KeyboardInterrupt",
          "evalue": "Interrupted by user",
          "output_type": "error",
          "traceback": [
            "\u001b[0;31m---------------------------------------------------------------------------\u001b[0m",
            "\u001b[0;31mKeyboardInterrupt\u001b[0m                         Traceback (most recent call last)",
            "\u001b[0;32m<ipython-input-4-f2558bc7adb6>\u001b[0m in \u001b[0;36m<cell line: 0>\u001b[0;34m()\u001b[0m\n\u001b[0;32m----> 1\u001b[0;31m \u001b[0mx\u001b[0m \u001b[0;34m=\u001b[0m \u001b[0mint\u001b[0m\u001b[0;34m(\u001b[0m\u001b[0minput\u001b[0m\u001b[0;34m(\u001b[0m\u001b[0;34m\"enter a number to get its absolute value\"\u001b[0m\u001b[0;34m)\u001b[0m\u001b[0;34m)\u001b[0m\u001b[0;34m\u001b[0m\u001b[0;34m\u001b[0m\u001b[0m\n\u001b[0m\u001b[1;32m      2\u001b[0m \u001b[0;32mif\u001b[0m \u001b[0mx\u001b[0m\u001b[0;34m<\u001b[0m\u001b[0;36m0\u001b[0m\u001b[0;34m:\u001b[0m\u001b[0;34m\u001b[0m\u001b[0;34m\u001b[0m\u001b[0m\n\u001b[1;32m      3\u001b[0m   \u001b[0mx\u001b[0m \u001b[0;34m=\u001b[0m \u001b[0mx\u001b[0m\u001b[0;34m*\u001b[0m\u001b[0;34m-\u001b[0m\u001b[0;36m1\u001b[0m\u001b[0;34m\u001b[0m\u001b[0;34m\u001b[0m\u001b[0m\n\u001b[1;32m      4\u001b[0m \u001b[0;34m\u001b[0m\u001b[0m\n\u001b[1;32m      5\u001b[0m \u001b[0mprint\u001b[0m\u001b[0;34m(\u001b[0m\u001b[0;34m\"the absolute value of your of your input is\"\u001b[0m\u001b[0;34m,\u001b[0m \u001b[0mx\u001b[0m\u001b[0;34m)\u001b[0m\u001b[0;34m\u001b[0m\u001b[0;34m\u001b[0m\u001b[0m\n",
            "\u001b[0;32m/usr/local/lib/python3.11/dist-packages/ipykernel/kernelbase.py\u001b[0m in \u001b[0;36mraw_input\u001b[0;34m(self, prompt)\u001b[0m\n\u001b[1;32m   1175\u001b[0m                 \u001b[0;34m\"raw_input was called, but this frontend does not support input requests.\"\u001b[0m\u001b[0;34m\u001b[0m\u001b[0;34m\u001b[0m\u001b[0m\n\u001b[1;32m   1176\u001b[0m             )\n\u001b[0;32m-> 1177\u001b[0;31m         return self._input_request(\n\u001b[0m\u001b[1;32m   1178\u001b[0m             \u001b[0mstr\u001b[0m\u001b[0;34m(\u001b[0m\u001b[0mprompt\u001b[0m\u001b[0;34m)\u001b[0m\u001b[0;34m,\u001b[0m\u001b[0;34m\u001b[0m\u001b[0;34m\u001b[0m\u001b[0m\n\u001b[1;32m   1179\u001b[0m             \u001b[0mself\u001b[0m\u001b[0;34m.\u001b[0m\u001b[0m_parent_ident\u001b[0m\u001b[0;34m[\u001b[0m\u001b[0;34m\"shell\"\u001b[0m\u001b[0;34m]\u001b[0m\u001b[0;34m,\u001b[0m\u001b[0;34m\u001b[0m\u001b[0;34m\u001b[0m\u001b[0m\n",
            "\u001b[0;32m/usr/local/lib/python3.11/dist-packages/ipykernel/kernelbase.py\u001b[0m in \u001b[0;36m_input_request\u001b[0;34m(self, prompt, ident, parent, password)\u001b[0m\n\u001b[1;32m   1217\u001b[0m             \u001b[0;32mexcept\u001b[0m \u001b[0mKeyboardInterrupt\u001b[0m\u001b[0;34m:\u001b[0m\u001b[0;34m\u001b[0m\u001b[0;34m\u001b[0m\u001b[0m\n\u001b[1;32m   1218\u001b[0m                 \u001b[0;31m# re-raise KeyboardInterrupt, to truncate traceback\u001b[0m\u001b[0;34m\u001b[0m\u001b[0;34m\u001b[0m\u001b[0m\n\u001b[0;32m-> 1219\u001b[0;31m                 \u001b[0;32mraise\u001b[0m \u001b[0mKeyboardInterrupt\u001b[0m\u001b[0;34m(\u001b[0m\u001b[0;34m\"Interrupted by user\"\u001b[0m\u001b[0;34m)\u001b[0m \u001b[0;32mfrom\u001b[0m \u001b[0;32mNone\u001b[0m\u001b[0;34m\u001b[0m\u001b[0;34m\u001b[0m\u001b[0m\n\u001b[0m\u001b[1;32m   1220\u001b[0m             \u001b[0;32mexcept\u001b[0m \u001b[0mException\u001b[0m\u001b[0;34m:\u001b[0m\u001b[0;34m\u001b[0m\u001b[0;34m\u001b[0m\u001b[0m\n\u001b[1;32m   1221\u001b[0m                 \u001b[0mself\u001b[0m\u001b[0;34m.\u001b[0m\u001b[0mlog\u001b[0m\u001b[0;34m.\u001b[0m\u001b[0mwarning\u001b[0m\u001b[0;34m(\u001b[0m\u001b[0;34m\"Invalid Message:\"\u001b[0m\u001b[0;34m,\u001b[0m \u001b[0mexc_info\u001b[0m\u001b[0;34m=\u001b[0m\u001b[0;32mTrue\u001b[0m\u001b[0;34m)\u001b[0m\u001b[0;34m\u001b[0m\u001b[0;34m\u001b[0m\u001b[0m\n",
            "\u001b[0;31mKeyboardInterrupt\u001b[0m: Interrupted by user"
          ]
        }
      ],
      "source": [
        "x = int(input(\"enter a number to get its absolute value \"))\n",
        "if x<0:\n",
        "  x = x*-1\n",
        "\n",
        "print(\"the absolute value of your of your input is\", x)"
      ]
    },
    {
      "cell_type": "markdown",
      "metadata": {
        "id": "pOnjNwNx03Tr"
      },
      "source": [
        "# **WAP to enter a year from user and check if it is leap year or not.**"
      ]
    },
    {
      "cell_type": "code",
      "execution_count": 7,
      "metadata": {
        "colab": {
          "base_uri": "https://localhost:8080/"
        },
        "id": "4PEtUTm51H6x",
        "outputId": "76e67031-45c1-4e02-f1ea-a948f14cd1fe"
      },
      "outputs": [
        {
          "name": "stdout",
          "output_type": "stream",
          "text": [
            "enter the year to check if its a leap year or not1996\n",
            "its  a leap year\n"
          ]
        }
      ],
      "source": [
        "x=int(input(\"enter the year to check if its a leap year or not\"))\n",
        "if x%4==0:\n",
        "  if xx%100==0:\n",
        "    if x%400 ==0:\n",
        "      print(\"its a leap year\")\n",
        "    else:\n",
        "      print(\"its not aleap year\")\n",
        "  else:\n",
        "    print(\"its  a leap year\")\n",
        "else:\n",
        "  print(\"its not aleap year\")\n",
        "\n"
      ]
    },
    {
      "cell_type": "markdown",
      "metadata": {
        "id": "sn-NADUn1VGn"
      },
      "source": [
        "# **WAP to enter the age of 3 person and print oldest and yougest among them.**"
      ]
    },
    {
      "cell_type": "code",
      "execution_count": 11,
      "metadata": {
        "colab": {
          "base_uri": "https://localhost:8080/"
        },
        "id": "uNGWS1AT1cYP",
        "outputId": "0c13b14b-9314-48b7-8daa-96cd007d37f5"
      },
      "outputs": [
        {
          "name": "stdout",
          "output_type": "stream",
          "text": [
            "enter the age of person number97\n",
            "enter the age of person number100\n",
            "enter the age of person number9\n",
            "the age of the oldest person you entered is 100\n",
            "the age of the youngest you entered is  9\n"
          ]
        }
      ],
      "source": [
        "oldest=0\n",
        "youngest=0\n",
        "i=0\n",
        "while i<3:\n",
        "  x=int(input(\"enter the age of person number\"))\n",
        "  if x>oldest:\n",
        "    oldest =x\n",
        "  else:\n",
        "    youngest = x\n",
        "  i =i+1\n",
        "\n",
        "\n",
        "print(\"the age of the oldest person you entered is\",oldest)\n",
        "print(\"the age of the youngest you entered is \",youngest)\n"
      ]
    },
    {
      "cell_type": "markdown",
      "metadata": {
        "id": "XFRRNGVj1dEw"
      },
      "source": [
        "# **Write a program that asks the user to enter a series of numbers. The program should ask for numbers until the user enters a negative number. Once the user enters a negative number, the program should stop and print the sum of all the positive numbers entered**\n",
        "# **Example**\n",
        "# **Enter a number: 5**\n",
        "# **Enter a number: 8**\n",
        "# **Enter a number: 12**\n",
        "# **Enter a number: -2**\n",
        "# **The sum of the positive numbers is 25.**"
      ]
    },
    {
      "cell_type": "code",
      "execution_count": 21,
      "metadata": {
        "colab": {
          "base_uri": "https://localhost:8080/"
        },
        "id": "ijp9SzHu2A3p",
        "outputId": "d397e1dd-8dfb-4302-c8b2-369208cfa981"
      },
      "outputs": [
        {
          "name": "stdout",
          "output_type": "stream",
          "text": [
            "enter a number: 9\n",
            "enter a number: 10\n",
            "enter a number: -1\n",
            "the sum of the positive numbers is:  19\n"
          ]
        }
      ],
      "source": [
        "x= int(input(\"enter a number: \"))\n",
        "sum=0\n",
        "\n",
        "while x>=0:\n",
        "  sum = sum+x\n",
        "  x= int(input(\"enter a number: \"))\n",
        "\n",
        "print(\"the sum of the positive numbers is: \",sum)"
      ]
    },
    {
      "cell_type": "markdown",
      "metadata": {
        "id": "oODCHUj62DxA"
      },
      "source": [
        "# **Write a program that asks the user to enter their name and age. The program should check if the user's age is greater than or equal to 18. If it is, the program should print a message saying they are eligible to vote. Otherwise, the program should print a message saying they are not eligible to vote due to being underage.**"
      ]
    },
    {
      "cell_type": "code",
      "execution_count": 24,
      "metadata": {
        "colab": {
          "base_uri": "https://localhost:8080/"
        },
        "id": "Svls1cLA2JVA",
        "outputId": "7ff343a3-b1fa-4a68-a95e-a47c38c7b5d3"
      },
      "outputs": [
        {
          "name": "stdout",
          "output_type": "stream",
          "text": [
            "enter your name: ahmed\n",
            "enter your age18\n",
            "ahmedyou're eligble to vote\n"
          ]
        }
      ],
      "source": [
        "name = input(\"enter your name: \")\n",
        "age = int(input(\"enter your age\"))\n",
        "\n",
        "if age>=18:\n",
        "  print(name+\" you're eligble to vote\")\n",
        "else:\n",
        "  print(name,\" you aren't eligble to vote\")1"
      ]
    },
    {
      "cell_type": "markdown",
      "metadata": {
        "id": "2y5o5SqL3nvL"
      },
      "source": [
        "# **Write a Python Program to Find the Factorial of a Number**"
      ]
    },
    {
      "cell_type": "code",
      "execution_count": 27,
      "metadata": {
        "colab": {
          "base_uri": "https://localhost:8080/"
        },
        "id": "Q_v3ns1D3tgy",
        "outputId": "54c5a4e6-2526-444f-f88b-e6be4f3e170f"
      },
      "outputs": [
        {
          "name": "stdout",
          "output_type": "stream",
          "text": [
            "enter the number you want to get the factorial of: 5\n",
            "the factorial of the number you entered is:  120\n"
          ]
        }
      ],
      "source": [
        "x = int(input(\"enter the number you want to get the factorial of: \"))\n",
        "for i in range(1,x):\n",
        "  x = x*i\n",
        "\n",
        "print(\"the factorial of the number you entered is: \",x)"
      ]
    },
    {
      "cell_type": "code",
      "execution_count": null,
      "metadata": {
        "id": "nrCqNzcG5RLs"
      },
      "outputs": [],
      "source": []
    }
  ],
  "metadata": {
    "colab": {
      "provenance": []
    },
    "kernelspec": {
      "display_name": "Python 3",
      "name": "python3"
    },
    "language_info": {
      "name": "python"
    }
  },
  "nbformat": 4,
  "nbformat_minor": 0
}
